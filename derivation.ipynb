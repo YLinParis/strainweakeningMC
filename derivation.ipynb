\begin{equation}
f_{s}(\sigma_{1},\sigma_{3},\kappa) = \sigma_{1} - \frac{1+\sin\phi(\kappa)}{1-\sin\phi(\kappa)}\sigma_{3} + 2c(\kappa)\frac{\cos\phi(\kappa)}{1-\sin\phi(\kappa)}
\end{equation}

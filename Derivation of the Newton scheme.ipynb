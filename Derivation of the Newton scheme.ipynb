{
 "cells": [
  {
   "cell_type": "markdown",
   "metadata": {},
   "source": [
    "# Implicit Return Mapping for the strain-weakening Mohr-Coulomb plasticity"
   ]
  },
  {
   "cell_type": "markdown",
   "metadata": {},
   "source": [
    "## Yield function and flow potential"
   ]
  },
  {
   "cell_type": "markdown",
   "metadata": {},
   "source": [
    "The Mohr-Coulomb plasticity model has the following yield function ($f_{s}$), flow potential ($g_{s}$):\n",
    "\n",
    "\\begin{equation}\n",
    "f_{s}(\\sigma_{1},\\sigma_{3},\\kappa) = \\sigma_{1} - \\frac{1+\\sin\\phi(\\kappa)}{1-\\sin\\phi(\\kappa)}\\sigma_{3} + 2c(\\kappa)\\frac{\\cos\\phi(\\kappa)}{1-\\sin\\phi(\\kappa)} = \\sigma_{1} - N_{\\phi}(\\kappa) \\sigma_{3} + 2c(\\kappa)\\sqrt{N_{\\phi}(\\kappa)}.\n",
    "\\end{equation}\n",
    "\n",
    "\\begin{equation}\n",
    "g_{s}(\\sigma_{1},\\sigma_{3},\\kappa) = \\sigma_{1} - \\frac{1+\\sin\\psi(\\kappa)}{1-\\sin\\psi(\\kappa)}\\sigma_{3} = \\sigma_{1} - N_{\\psi}(\\kappa)\\sigma_{3}\n",
    "\\end{equation}"
   ]
  },
  {
   "cell_type": "markdown",
   "metadata": {},
   "source": [
    "## Kinematics"
   ]
  },
  {
   "cell_type": "markdown",
   "metadata": {},
   "source": [
    "In the limit of small deformation, the total strain increment is decomposed into the elastic and plastic strain components and the plastic strain increment is defined as the product of the increment of the consistentcy paramter ($\\Delta \\beta$) and the derivatives of flow potential with respect to stresses $\\partial g/\\partial \\boldsymbol{\\sigma}$:\n",
    "\n",
    "\\begin{align}\n",
    "\\Delta \\boldsymbol{\\varepsilon} &= \\Delta \\boldsymbol{\\varepsilon}_{el} + \\Delta \\boldsymbol{\\varepsilon}_{pl}, \\\\\n",
    "\\Delta \\boldsymbol{\\varepsilon}_{pl} &= \\Delta \\beta \\frac{\\partial g}{\\partial \\boldsymbol{\\sigma}}.\n",
    "\\end{align}\n",
    "\n",
    "In terms of the principal components, the elastic strain increments are given as\n",
    "\\begin{align}\n",
    "\\Delta \\varepsilon_{pl1} &= \\Delta \\beta, \\\\\n",
    "\\Delta \\varepsilon_{pl2} &= 0, \\\\\n",
    "\\Delta \\varepsilon_{pl3} &= - N_{\\psi} \\Delta \\beta.\n",
    "\\end{align}\n",
    "\n",
    "\\begin{align}\n",
    "\\Delta \\varepsilon_{el1} &= \\Delta \\varepsilon_{1} - \\Delta \\beta, \\\\\n",
    "\\Delta \\varepsilon_{el2} &= \\Delta \\varepsilon_{2}, \\\\\n",
    "\\Delta \\varepsilon_{el3} &= \\Delta \\varepsilon_{3} + N_{\\psi} \\Delta \\beta.\n",
    "\\end{align}"
   ]
  },
  {
   "cell_type": "markdown",
   "metadata": {},
   "source": [
    "## Stress update"
   ]
  },
  {
   "cell_type": "markdown",
   "metadata": {},
   "source": [
    "In terms of the principal components, the stress increments are \n",
    "\n",
    "\\begin{align}\n",
    "\\Delta \\sigma_{1} &= (\\lambda+2\\mu) \\Delta\\varepsilon_{el1} + \\lambda \\Delta \\varepsilon_{el2} + \\lambda \\Delta \\varepsilon_{el3},\\\\\n",
    "\\Delta \\sigma_{2} &= \\lambda \\Delta\\varepsilon_{el1} + (\\lambda+2\\mu) \\Delta \\varepsilon_{el2} + \\lambda \\Delta \\varepsilon_{el3}, \\\\\n",
    "\\Delta \\sigma_{3} &= \\lambda \\Delta\\varepsilon_{el1} + \\lambda \\Delta \\varepsilon_{el2} + (\\lambda+2\\mu) \\Delta \\varepsilon_{el3}.\n",
    "\\end{align}\n",
    "\n",
    "Plugging in the expressions for the elastic strain increments and denoting the previous principal stresses as $\\sigma_{i}^{o}$, we get the updated stresses as\n",
    "\n",
    "\\begin{align} \n",
    "\\sigma_{1} &= \\sigma_{1}^{o} + (\\lambda+2\\mu) (\\Delta\\varepsilon_{1}-\\Delta\\beta)+ \\lambda \\Delta \\varepsilon_{2} + \\lambda (\\Delta \\varepsilon_{3}+N_{\\psi}(\\kappa) \\Delta\\beta), \\\\\n",
    "\\sigma_{3} &= \\sigma_{3}^{o} + \\lambda (\\Delta\\varepsilon_{1}-\\Delta\\beta) + \\lambda \\Delta \\varepsilon_{2} + (\\lambda+2\\mu) (\\Delta \\varepsilon_{3}+N_{\\psi}(\\kappa) \\Delta\\beta).\n",
    "\\end{align}\n",
    "\n",
    "In the return mapping algorithm, we can require that the updated stresses satisfy the consistency conditions: i.e.,  $\\mathcal{F}(\\Delta \\beta)$ defined as follows becomes zero:\n",
    "\n",
    "\\begin{equation}\n",
    "\\begin{split}\n",
    "\\mathcal{F}(\\Delta \\beta) = &\\sigma_{1}^{o} + (\\lambda+2\\mu)(\\Delta\\varepsilon_{1}-\\Delta \\beta)+ \\lambda \\Delta \\varepsilon_{2} + \\lambda \\left( \\Delta \\varepsilon_{3} + \\Delta \\beta N_{\\psi}(\\kappa) \\right) \\\\ \n",
    "- &N_{\\phi} \\left[ \\sigma_{3}^{o} + \\lambda(\\Delta\\varepsilon_{1}-\\Delta \\beta) + \\lambda \\Delta \\varepsilon_{2} + (\\lambda+2\\mu) \\left( \\Delta \\varepsilon_{3} + \\Delta\\beta N_{\\psi}(\\kappa) \\right) \\right] \\\\\n",
    "+ & 2c(\\kappa)\\sqrt{N_{\\phi}(\\kappa)}.\n",
    "\\end{split}\n",
    "\\end{equation}\n"
   ]
  },
  {
   "cell_type": "markdown",
   "metadata": {},
   "source": [
    "## Evaluating the derivative of $\\mathcal{F}$ with respect to $\\Delta \\beta$"
   ]
  },
  {
   "cell_type": "markdown",
   "metadata": {},
   "source": [
    "The goal is to solve this equation for $\\Delta \\beta$. If the strain-hardening or softening is not considered, i.e., $\\phi$, $\\psi$ and $c$ are constants, the above equation is an algebraic one that can be easily solved for $\\Delta \\beta$. In case of strain-softening, we employ the Newton's method.\n",
    "\n",
    "To execute the Newton scheme for finding $\\Delta \\beta$ that satisfies $\\mathcal{F}=0$, $\\mathcal{F}^{\\prime}$ needs to be evaluated. \n",
    "\n",
    "\\begin{equation}\n",
    "\\begin{split}\n",
    "\\mathcal{F}^{\\prime} = \\frac{d\\mathcal{F}}{d\\Delta \\beta} = &-(\\lambda+2\\mu) + \\lambda N_{\\psi}(\\kappa) + \\lambda \\Delta \\beta N_{\\psi}^{\\prime}(\\kappa) \\\\\n",
    "& - \\left[ \\sigma_{3}^{o}+ \\lambda (\\Delta\\varepsilon_{1}-\\Delta \\beta) + \\lambda \\Delta \\varepsilon_{e2} + (\\lambda+2\\mu) \\left( \\Delta \\varepsilon_{3} + \\Delta \\beta N_{\\psi}(\\kappa) \\right) \\right] N_{\\phi}^{\\prime} (\\kappa) \\\\\n",
    "& - \\left[ -\\lambda + (\\lambda+2\\mu)(N_{\\psi}+\\Delta \\beta N_{\\psi}^{\\prime}) \\right] N_{\\phi} \\\\\n",
    "& + 2 c^{\\prime}(\\kappa) \\sqrt{N_{\\phi}(\\kappa)} + 2c(\\kappa) (\\sqrt{N_{\\phi}(\\kappa)})^{\\prime}.\n",
    "\\end{split}\n",
    "\\end{equation}"
   ]
  },
  {
   "cell_type": "markdown",
   "metadata": {},
   "source": [
    "### Derivatives of $N_{\\phi}$, $N_{\\psi}$, and $\\sqrt{N_{\\phi}}$ under strain weakening"
   ]
  },
  {
   "cell_type": "markdown",
   "metadata": {},
   "source": [
    "\\begin{equation}\n",
    "\\begin{split}\n",
    "N_{\\phi}(\\kappa)^{\\prime} &= \\frac{dN_{\\phi}(\\kappa)}{d\\Delta\\beta} = \\left( \\frac{dN_{\\phi}}{d\\phi} \\right)\n",
    "\\left( \\frac{d\\phi}{d\\kappa}\\right) \\left( \\frac{d\\kappa}{d\\Delta \\beta}\\right) \\\\\n",
    "&= \\frac{2\\cos\\phi(\\kappa)}{(1-\\sin\\phi(\\kappa))^{2}}\n",
    "\\left( \\frac{d\\phi}{d\\kappa}\\right) \\left( \\frac{d\\kappa}{d\\Delta \\beta}\\right),\n",
    "\\end{split}\n",
    "\\end{equation}\n",
    "\n",
    "where $\\frac{d\\phi}{d\\kappa}$ is evaluated according to a prescribed weakening rule, i.e., $\\phi = \\phi(\\kappa)$ and $\\frac{d\\phi}{d\\kappa}$ is determined according to the definition of the internal variable $\\kappa$ in terms of the plastic consistency parameter $\\beta$. For instance, a linear weakening rule can be defined as \n",
    "\n",
    "\\begin{equation}\n",
    "  \\phi(\\kappa) = \\phi_{0} + H_{\\phi}\\kappa,\n",
    "\\end{equation}\n",
    "\n",
    "where $H_{\\phi} < 0$ is the constant weakening modulus for the internal friction angle. In this case, \n",
    "\n",
    "\\begin{equation}\n",
    "\\frac{d\\phi}{d\\kappa} = H_{\\phi}.\n",
    "\\end{equation}\n",
    "\n",
    "Similarly, \n",
    "\n",
    "\\begin{equation}\n",
    "N_{\\psi}(\\kappa)^{\\prime} = \\frac{2\\cos\\psi(\\kappa)}{(1-\\sin\\psi(\\kappa))^{2}}\n",
    "\\left( \\frac{d\\psi}{d\\kappa}\\right) \\left( \\frac{d\\kappa}{d\\Delta \\beta}\\right),\n",
    "\\end{equation}\n",
    "\n",
    "and \n",
    "\n",
    "\\begin{equation}\n",
    "\\left( \\sqrt{N_{\\phi}(\\kappa)} \\right)^{\\prime} \n",
    "= \\frac{d}{d\\phi}\\left( \\frac{\\cos \\phi(\\kappa)}{1-\\sin\\phi(\\kappa)} \\right)\n",
    "\\left( \\frac{d\\phi}{d\\kappa}\\right) \\left( \\frac{d\\kappa}{d\\Delta \\beta}\\right)\n",
    "= \\frac{1}{1-\\sin\\phi(\\kappa)}\n",
    "\\left( \\frac{d\\phi}{d\\kappa}\\right) \\left( \\frac{d\\kappa}{d\\Delta \\beta}\\right).\n",
    "\\end{equation}"
   ]
  },
  {
   "cell_type": "markdown",
   "metadata": {},
   "source": [
    "### Choices for the internal variable $\\kappa$"
   ]
  },
  {
   "cell_type": "markdown",
   "metadata": {},
   "source": [
    "#### Case 1"
   ]
  },
  {
   "cell_type": "markdown",
   "metadata": {},
   "source": [
    "A popular choice for the internal variable increment ($\\Delta \\kappa$) is $\\sqrt{ | J_{2}(\\Delta \\boldsymbol{\\varepsilon}_{pl}) | }$:\n",
    "\n",
    "\\begin{equation}\n",
    "\\begin{split}\n",
    "  J_{2}(\\Delta \\boldsymbol{\\varepsilon}_{pl}) &= \\Delta e_{pl1} \\Delta e_{pl3} = (\\Delta \\varepsilon_{pl1} - \\Delta \\varepsilon_{plm}) ( \\Delta \\varepsilon_{pl3} - \\Delta \\varepsilon_{plm})  \\\\\n",
    "  &= \\left( \\Delta \\varepsilon_{pl1} - \\frac{\\Delta \\varepsilon_{pl1}+\\Delta \\varepsilon_{pl3}}{3} \\right) \\left( \\Delta \\varepsilon_{pl3} - \\frac{\\Delta \\varepsilon_{pl1}+\\Delta \\varepsilon_{pl3}}{3}  \\right) \\\\\n",
    "  &= \\frac{2\\Delta \\varepsilon_{pl1}-\\Delta \\varepsilon_{pl3}}{3} \\frac{2\\Delta \\varepsilon_{pl3}-\\Delta \\varepsilon_{pl1}}{3} \\\\\n",
    "  &= \\left( \\frac{2}{3}+\\frac{1}{3}N_{\\psi}(\\kappa) \\right) \\left( \\frac{2}{3}N_{\\psi}(\\kappa)+\\frac{1}{3} \\right) \\Delta \\beta^{2}\n",
    "\\end{split}\n",
    "\\end{equation}\n",
    "\n",
    "Then, \n",
    "\\begin{equation}\n",
    "  \\Delta \\kappa = \\frac{\\Delta \\beta}{3} \\sqrt{ \\left|(2+N_{\\psi}(\\kappa))(1+2N_{\\psi}(\\kappa)) \\right|} = C_{\\psi}(\\kappa) \\Delta \\beta.\n",
    "\\end{equation}\n",
    "\n"
   ]
  },
  {
   "cell_type": "markdown",
   "metadata": {},
   "source": [
    "#### Case 2"
   ]
  },
  {
   "cell_type": "markdown",
   "metadata": {},
   "source": [
    "Sometimes the internal variable is defined in such a way that the volumetric plastic strain can be taken into accout. For instance,\n",
    "\n",
    "\\begin{equation}\n",
    "\\begin{split}\n",
    "  \\Delta \\kappa &= \\left[ \\frac{1}{2} \\left( (\\Delta \\varepsilon_{pl1}-\\Delta \\varepsilon_{plm})^{2} + (\\Delta \\varepsilon_{pl3}-\\Delta \\varepsilon_{plm})^{2}\\right) + \\Delta \\varepsilon_{plm}^{2} \\right]^{1/2} \\\\\n",
    "  &= \\left[ \\frac{1}{2} \\left[ (1-(1-N_{\\psi})/3)^{2} + (-N_{\\psi}-(1-N_{\\psi})/3)^{2} \\right] + ((1-N_{\\psi})/3)^{2} \\right]^{1/2} \\Delta \\beta \\\\\n",
    "  &= \\sqrt{\\frac{7}{18}+\\frac{2}{9}N_{\\psi}+\\frac{7}{18}N_{\\psi}^{2}} \\Delta \\beta \\\\\n",
    "  &= C_{\\psi} \\Delta \\beta\n",
    "\\end{split}\n",
    "\\end{equation}"
   ]
  },
  {
   "cell_type": "markdown",
   "metadata": {},
   "source": [
    "### Derivative of $\\Delta \\kappa$ with respect to $\\Delta \\beta$"
   ]
  },
  {
   "cell_type": "markdown",
   "metadata": {},
   "source": [
    "\\begin{equation}\n",
    "  \\frac{d\\Delta \\kappa}{d\\Delta \\beta} = \\frac{dC_{\\psi}}{d\\psi} \\frac{d\\psi}{d\\Delta \\kappa} \\frac{d\\Delta \\kappa}{d\\Delta \\beta} \\Delta \\beta + C_{\\psi}(\\kappa)\n",
    "\\end{equation}\n",
    "\n",
    "Therefore,\n",
    "\n",
    "\\begin{equation}\n",
    "  \\frac{d\\Delta\\kappa}{d\\Delta\\beta} = \\frac{C_{\\psi}(\\kappa)}{1-\\frac{dC_{\\psi}}{d\\psi} \\frac{d\\psi}{d\\Delta \\kappa} \\Delta \\beta}\n",
    "\\end{equation}"
   ]
  },
  {
   "cell_type": "markdown",
   "metadata": {},
   "source": [
    "#### Case 2"
   ]
  },
  {
   "cell_type": "markdown",
   "metadata": {},
   "source": [
    "\\begin{equation}\n",
    "  C_{\\psi}(\\kappa) = \\sqrt{\\frac{7}{18}+\\frac{2}{9}N_{\\psi}+\\frac{7}{18}N_{\\psi}^{2}}\n",
    "\\end{equation}\n",
    "\n",
    "\\begin{equation}\n",
    "\\begin{split}\n",
    "  \\frac{dC_{\\psi}}{d\\psi} &= \\frac{\\frac{2}{9}\\frac{dN_{\\psi}}{d\\psi}+\\frac{7}{9}N_{\\psi}\\frac{dN_{\\psi}}{d\\psi}}{2C_{\\psi}} \\\\\n",
    "  &= \\frac{2+7N_{\\psi}}{18C_{\\psi}} \\frac{dN_{\\psi}}{d\\psi} \\\\\n",
    "  &= \\frac{2+7N_{\\psi}}{18C_{\\psi}} \\frac{2\\cos \\psi}{(1-\\sin\\psi)^{2}}.\n",
    "\\end{split}\n",
    "\\end{equation}\n",
    "\n",
    "\n",
    "\\begin{equation}\n",
    "  \\frac{d\\Delta\\kappa}{d\\Delta\\beta} = \\frac{\\sqrt{\\frac{7}{18}+\\frac{2}{9}N_{\\psi}+\\frac{7}{18}N_{\\psi}^{2}}}{1-\\frac{2+7N_{\\psi}}{18C_{\\psi}} \\frac{2\\cos \\psi}{(1-\\sin\\psi)^{2}} H_{\\psi} \\Delta \\beta}.\n",
    "\\end{equation}\n"
   ]
  },
  {
   "cell_type": "markdown",
   "metadata": {},
   "source": [
    "## Newton scheme"
   ]
  },
  {
   "cell_type": "markdown",
   "metadata": {},
   "source": [
    "Let $\\Delta \\beta^{(0)}=0$ and for $k=0,1,2,\\ldots$,\n",
    "\n",
    "(i) Increment $\\beta$ and $\\kappa$:\n",
    "\n",
    "\\begin{align}\n",
    "  \\beta &= \\beta_{0} + \\Delta \\beta^{(k)}, \\\\\n",
    "  \\Delta \\kappa &= C_{\\psi} \\Delta \\beta^{(k)}, \\\\\n",
    "  \\kappa &= \\kappa_{0} + \\Delta \\kappa^{(k)}.\n",
    "\\end{align}\n",
    "\n",
    "(ii) Update all the $\\kappa$ dependent parameters:\n",
    "\n",
    "\\begin{align}\n",
    "  c &= c(\\kappa), \\\\\n",
    "  \\phi &= \\phi(\\kappa), \\\\\n",
    "  \\psi &= \\psi(\\kappa), \\\\\n",
    "  \\sin \\phi &= \\sin \\phi(\\kappa), \\\\\n",
    "  \\cos \\phi &= \\cos \\phi(\\kappa), \\\\\n",
    "  \\sin \\psi &= \\sin \\psi(\\kappa), \\\\\n",
    "  N_{\\phi} &= N_{\\phi}(\\kappa), \\\\\n",
    "  N_{\\psi} &= N_{\\psi}(\\kappa), \\\\\n",
    "  N_{\\phi}^{\\prime} &= \\frac{2\\cos \\phi(\\kappa)}{(1-\\sin\\phi(\\kappa))^{2}} \\left( \\frac{d\\phi}{d\\kappa} \\right) \\frac{C_{\\psi}(\\kappa)}{1-\\frac{dC_{\\psi}}{d\\psi} \\frac{d\\psi}{d\\Delta \\kappa} \\Delta \\beta}, \\\\\n",
    "  N_{\\psi}^{\\prime} &= \\frac{2\\cos \\psi(\\kappa)}{(1-\\sin\\psi(\\kappa))^{2}} \\left( \\frac{d\\psi}{d\\kappa} \\right) \\frac{C_{\\psi}(\\kappa)}{1-\\frac{dC_{\\psi}}{d\\psi} \\frac{d\\psi}{d\\Delta \\kappa} \\Delta \\beta}, \\\\\n",
    "  (\\sqrt{N_{\\phi}})^{\\prime} &= \\frac{1}{1-\\sin \\phi} \\left( \\frac{d\\phi}{d\\kappa} \\right) \\frac{C_{\\psi}(\\kappa)}{1-\\frac{dC_{\\psi}}{d\\psi} \\frac{d\\psi}{d\\Delta \\kappa} \\Delta \\beta}.\n",
    "\\end{align}\n",
    "\n",
    "(iii) Update the elastic strains:\n",
    "\n",
    "\\begin{align}\n",
    "\\Delta \\varepsilon_{e1} &= \\Delta \\varepsilon_{1} - \\Delta \\beta^{(k)}, \\\\\n",
    "\\Delta \\varepsilon_{e2} &= \\Delta \\varepsilon_{2}, \\\\\n",
    "\\Delta \\varepsilon_{e3} &= \\Delta \\varepsilon_{3} + N_{\\psi} \\Delta \\beta^{(k)}.\n",
    "\\end{align}\n",
    "\n",
    "\n",
    "(iv) Evaluate $\\mathcal{F}$ for the updated $\\kappa$: \n",
    "\n",
    "\\begin{equation}\n",
    "\\begin{split}\n",
    "  \\mathcal{F} = &(\\sigma_{1}^{o} + (\\lambda+2\\mu)\\Delta \\varepsilon_{e1} + \\lambda \\Delta \\varepsilon_{e2} + \\lambda \\Delta \\varepsilon_{e3} ) \\\\\n",
    "  - &N_{\\phi}(\\kappa) (\\sigma_{3}^{o} + \\lambda\\Delta \\varepsilon_{e1} + \\lambda \\Delta \\varepsilon_{e2} + (\\lambda+2\\mu) \\Delta \\varepsilon_{e3} ) \\\\\n",
    "  + &2c(\\kappa)\\sqrt{N_{\\phi}(\\kappa)}.\n",
    "\\end{split}\n",
    "\\end{equation}\n",
    "\n",
    "(v) If $\\mathcal{F}(\\kappa) \\neq 0$, update $\\Delta \\beta^{(k)}$ to $\\Delta \\beta^{(k+1)}$ and go to 1:\n",
    "\n",
    "\\begin{equation}\n",
    "\\begin{split}\n",
    "\\mathcal{F}^{\\prime} = &-(\\lambda+2\\mu) + \\lambda N_{\\psi} + \\lambda \\Delta \\beta^{(k)} N_{\\psi}^{\\prime} \\\\\n",
    "& - \\left( \\sigma_{3}^{o}+ \\lambda \\Delta \\varepsilon_{e1} + \\lambda \\Delta \\varepsilon_{e2} + (\\lambda+2\\mu)\\Delta \n",
    "\\varepsilon_{e3} \\right) N_{\\phi}^{\\prime} \\\\\n",
    "& - \\left[ -\\lambda + (\\lambda+2\\mu)(N_{\\psi}+\\Delta \\beta^{(k)}N_{\\psi}^{\\prime}) \\right] N_{\\phi} \\\\\n",
    "& + 2 \\left( \\frac{dc}{d\\kappa} \\right) C_{\\psi} \\sqrt{N_{\\phi}} + 2c (\\sqrt{N_{\\phi}})^{\\prime}.\n",
    "\\end{split}\n",
    "\\end{equation}\n",
    "\n",
    "\\begin{equation}\n",
    "\\Delta \\beta^{(k+1)} = \\Delta \\beta^{(k)} - \\frac{\\mathcal{F}}{\\mathcal{F}^{\\prime}}\n",
    "\\end{equation}"
   ]
  },
  {
   "cell_type": "markdown",
   "metadata": {},
   "source": [
    "# Implementation of the Newton scheme"
   ]
  },
  {
   "cell_type": "code",
   "execution_count": 7,
   "metadata": {
    "collapsed": false
   },
   "outputs": [],
   "source": [
    "import numpy # Not aliasing as np because we already have a parameter, 'np'\n",
    "import matplotlib.pyplot as plt\n",
    "from numpy import pi,sin,cos,sqrt"
   ]
  },
  {
   "cell_type": "code",
   "execution_count": 8,
   "metadata": {
    "collapsed": true
   },
   "outputs": [],
   "source": [
    "Nstep = 1501\n",
    "output_interval = 1\n",
    "Ndata = (Nstep-1)/output_interval+1\n",
    "dt = 10.0"
   ]
  },
  {
   "cell_type": "code",
   "execution_count": 9,
   "metadata": {
    "collapsed": true
   },
   "outputs": [],
   "source": [
    "def analytical_nw():\n",
    "    ''' \n",
    "    Computes stress and plastic strain \n",
    "    in the standard (i.e., no strain-weakening) oedometer test \n",
    "    with a 1 x 1 x 1 m box and the following parameters:\n",
    "        K = 200e6 (Pa)\n",
    "        mu = 200e6 (Pa)\n",
    "        coh = 1e6 (Pa)\n",
    "        phi = 10.0*pi/180 (rad)\n",
    "        psi = 10.0*pi/180 (rad)\n",
    "        ten = 5.67e6 (Pa)\n",
    "        rho = 1.0 (kg/m^3)\n",
    "        vx = 1e-5 (m/s)\n",
    "        \n",
    "    Returns 4 arrays of the size of Nstep, \n",
    "    which is supposed to be globally defined:\n",
    "        1. displacement \n",
    "        2. strain_xx\n",
    "        3. stress_xx \n",
    "        4. plastic strain_xx\n",
    "    '''\n",
    "    K = 200e6\n",
    "    mu = 200e6\n",
    "    coh = 1e6\n",
    "    phi = 10.0*pi/180\n",
    "    psi = 10.0*pi/180\n",
    "    ten = 5.67e6\n",
    "    rho = 1.0\n",
    "    vx = 1e-5\n",
    "\n",
    "    # lambda+2mu\n",
    "    e1 = K+4.0*mu/3.0\n",
    "    # lambda\n",
    "    e2 = K-2.0*mu/3.0\n",
    "\n",
    "    # short names for parameters\n",
    "    sf = sin(phi)\n",
    "    sp = sin(psi)\n",
    "    nf = (1.0+sf)/(1.0-sf)\n",
    "    np = (1.0+sp)/(1.0-sp)\n",
    "    \n",
    "    # The plastic consistency paramter increment ($\\Delta \\lambda$)\n",
    "    # For the\n",
    "    rl = (e1-e2*nf)/((e1+e2)*nf*np-2.0*e2*(nf+np)+2.0*e1)\n",
    "\n",
    "    # The time when yielding occurs for the first time\n",
    "    step1 = 2.0*coh*sqrt(nf)/((e1-e2*nf)*vx)\n",
    "    # convert it to the number of time step\n",
    "    step1 = step1 / dt\n",
    "\n",
    "    # Define the displacement array\n",
    "    displacement = vx * dt * numpy.array(range(Nstep), dtype=float)\n",
    "    \n",
    "    # Preprare array to be populated\n",
    "    Sxx = numpy.zeros(Nstep, dtype=float)\n",
    "    strain = 0.0\n",
    "    eps = 0.0\n",
    "    strains = numpy.zeros(Nstep, dtype=float)\n",
    "    eps_history = numpy.zeros(Nstep, dtype=float)\n",
    "    \n",
    "    # The main computation loop\n",
    "    for i in range(1, Nstep):\n",
    "        de = vx * dt / (1 - displacement[i-1])\n",
    "        strain = strain + numpy.fabs(de)\n",
    "        strains[i] = strain\n",
    "        if i < step1:\n",
    "            Sxx[i] = Sxx[i-1] + e1*de\n",
    "        else:\n",
    "            Sxx[i] = Sxx[i-1] + de*(e1+2.0*rl*(e2*np-e1))\n",
    "            eps = eps + 2.0 * rl * de\n",
    "            eps_history[i] = eps\n",
    "\n",
    "    # return the \n",
    "    return displacement, strains, Sxx, eps_history"
   ]
  },
  {
   "cell_type": "code",
   "execution_count": 10,
   "metadata": {
    "collapsed": false
   },
   "outputs": [
    {
     "name": "stdout",
     "output_type": "stream",
     "text": [
      "[  0.00000000e+00   1.00000000e-04   2.00000000e-04 ...,   1.49800000e-01\n",
      "   1.49900000e-01   1.50000000e-01] [  0.00000000e+00   4.66666667e+04   9.33380005e+04 ...,   4.92742520e+07\n",
      "   4.93091769e+07   4.93441059e+07]\n"
     ]
    }
   ],
   "source": [
    "def analytical_cohesion(coh1, epsc):\n",
    "    ''' \n",
    "    Computes stress and plastic strain \n",
    "    in the oedometer test with a strain weakening, in which\n",
    "    ONLY cohesion is LINEARLY reduced from an initial value (coh0) to\n",
    "    a user-provided non-negative value (coh1) as plastic strain\n",
    "    increases from 0 to a user-provided value, 'epsc'.\n",
    "\n",
    "    The domain is a 1 x 1 x 1 m box \n",
    "    and the rest of the parameters are:\n",
    "        K = 200e6 (Pa)\n",
    "        mu = 200e6 (Pa)\n",
    "        coh = 1e6 (Pa)\n",
    "        phi = 10.0*pi/180 (rad)\n",
    "        psi = 10.0*pi/180 (rad)\n",
    "        ten = 5.67e6 (Pa)\n",
    "        rho = 1.0 (kg/m^3)\n",
    "        vx = 1e-5 (m/s)\n",
    "    \n",
    "    Input:\n",
    "        1. coh1: The final cohesion after complete weakening.\n",
    "        2. epsc: The critical plastic strain at and beyond which cohesion becomes coh1.\n",
    "        \n",
    "    Returns 4 arrays of the size of Nstep, \n",
    "    which is supposed to be globally defined:\n",
    "        1. displacement \n",
    "        2. strain_xx\n",
    "        3. stress_xx \n",
    "        4. plastic strain_xx\n",
    "    '''\n",
    "    K = 200e6\n",
    "    mu = 200e6\n",
    "    coh0 = 1e6\n",
    "    #coh1 = 0e6\n",
    "    phi0 = 10.0*pi/180\n",
    "    phi1 = 10.0*pi/180\n",
    "    psi0 = 10.0*pi/180\n",
    "    psi1 = 10.0*pi/180\n",
    "    #epsc = 0.01\n",
    "    Hc   = (coh1-coh0)/epsc\n",
    "    Hphi = (phi1-phi0)/epsc\n",
    "    Hpsi = (psi1-psi0)/epsc\n",
    "    ten = 5.67e6\n",
    "    rho = 1.0\n",
    "    vx = 1e-5\n",
    "\n",
    "    e1 = K+4.0*mu/3.0\n",
    "    e2 = K-2.0*mu/3.0\n",
    "\n",
    "    displacement = vx * dt * numpy.array(range(Nstep), dtype=float)\n",
    "    Sxx = numpy.zeros(Nstep, dtype=float)\n",
    "    Syy = numpy.zeros(Nstep, dtype=float)\n",
    "    SxxTR = 0.0\n",
    "    SyyTR = 0.0\n",
    "    beta = 0.0\n",
    "    strain = 0.0\n",
    "    eps = 0.0\n",
    "    strains = numpy.zeros(Nstep, dtype=float)\n",
    "    eps_history = numpy.zeros(Nstep, dtype=float)\n",
    "    coh_history = coh0 * numpy.ones(Nstep, dtype=float)\n",
    "    for i in range(1, Nstep):\n",
    "        de = -vx * dt / (1 - displacement[i-1])\n",
    "        strain = strain + numpy.fabs(de)\n",
    "        strains[i] = strain\n",
    "        beta = displacement[i]-0.0066\n",
    "        coh = numpy.max([coh1, Hc*beta + coh0])   # cannot be less than coh1.\n",
    "        coh = numpy.min([coh0, coh])              # cannot be greater than coh0.\n",
    "        phi = numpy.max([phi1, Hphi*beta + phi0]) # cannot be less than phi1.\n",
    "        phi = numpy.min([phi0, phi])              # cannot be greater than phi0.\n",
    "        psi = numpy.max([psi1, Hpsi*beta + psi0]) # cannot be less than psi1.\n",
    "        psi = numpy.min([psi0, psi])              # cannot be greater than psi0.\n",
    "        sf = sin(phi)\n",
    "        nf = (1.0+sf)/(1.0-sf)\n",
    "        sp = sin(psi)\n",
    "        np = (1.0+sp)/(1.0-sp)\n",
    "        SxxTR = Sxx[i-1] + e1*de # also sigma1, the most compressive (-)\n",
    "        SyyTR = Syy[i-1] + e2*de # sigma 3, the least compressive.\n",
    "        fs = SxxTR - nf*SyyTR + 2.0*coh*sqrt(nf)\n",
    "        #print fs\n",
    "        if fs > 0.0:\n",
    "            Sxx[i] = SxxTR\n",
    "            Syy[i] = SyyTR\n",
    "        else:\n",
    "            dbeta = 0.0\n",
    "            beta_old = beta\n",
    "            eps_old = eps\n",
    "            Sxx_k = 0.0\n",
    "            Syy_k = 0.0\n",
    "            counter = 0\n",
    "            #print \"starting the Newton iteration. counter=\", counter, fs\n",
    "            while numpy.fabs(fs) > 1e-6:\n",
    "                counter = counter + 1\n",
    "                #if counter > 1000:\n",
    "                #\tbreak\n",
    "                fs_prime = -2.0*e1 + 2.0*e2*np - nf*(-2.0*e2+(e1+e2)*np) + 2.0*Hc*sqrt(nf)*numpy.sign(de)\n",
    "                dbeta = dbeta - fs/fs_prime\n",
    "                eps = eps_old + 2.0*numpy.fabs(dbeta)\n",
    "                #beta = beta_old + 2.0*numpy.fabs(dbeta) # 2.0 since e_p1 is 2*dbeta by formulation.\n",
    "                #print i, fs, fs_prime, dbeta, beta, 2.0*coh*sqrt(nf), nf, np, e1, e2, de, SxxTR, SyyTR, 2.0*coh*sqrt(nf)\n",
    "\n",
    "                phi = numpy.max([phi1, Hphi*beta + phi0])\n",
    "                phi = numpy.min([phi0, phi])\n",
    "                psi = numpy.max([psi1, Hpsi*beta + psi0]) # cannot be less than psi1.\n",
    "                psi = numpy.min([psi0, psi])              # cannot be greater than psi0.\n",
    "                coh = numpy.max([coh1, Hc*beta + coh0])\n",
    "                coh = numpy.min([coh0, coh])\n",
    "                sf = sin(phi)\n",
    "                nf = (1.0+sf)/(1.0-sf)\n",
    "                sp = sin(psi)\n",
    "                np = (1.0+sp)/(1.0-sp)\n",
    "                Sxx_k = SxxTR - e1*2.0*dbeta + 2.0*e2*np*dbeta\n",
    "                Syy_k = SyyTR - e2*2.0*dbeta + (e1+e2)*np*dbeta\n",
    "                #fs = (SxxTR - e1*2.0*dbeta + 2.0*e2*np*dbeta) - nf * (SyyTR - e2*2.0*dbeta + (e1+e2)*np*dbeta) + 2.0*coh*sqrt(nf)\n",
    "                fs = Sxx_k - nf*Syy_k + 2.0*coh*sqrt(nf)\n",
    "                #print \"fs=\",fs\n",
    "            #print \"dbeta=\",dbeta\n",
    "            #Sxx[i] = SxxTR - e1*2.0*dbeta + 2.0*e2*np*dbeta\n",
    "            #Syy[i] = SyyTR - e2*2.0*dbeta + (e1+e2)*np*dbeta\n",
    "            #print Sxx_k, SxxTR - e1*2.0*dbeta + 2.0*e2*np*dbeta\n",
    "            #print Syy_k, SyyTR - e2*2.0*dbeta + (e1+e2)*np*dbeta\n",
    "            print \"cohesion Step \",i,\"/\",Nstep,\": Converged after \", counter, \" iterations. fs=\",fs\n",
    "            Sxx[i] = Sxx_k\n",
    "            Syy[i] = Syy_k\n",
    "            coh_history[i] = coh #print displacement[i], coh, beta\n",
    "            eps_history[i] = eps\n",
    "\n",
    "\t#numpy.savetxt('comsol_cohesion_history_des3d_0.0934.dat',zip(displacement, coh_history),fmt='%1.6e')\n",
    "\treturn displacement, strains, Sxx, eps_history\n"
   ]
  },
  {
   "cell_type": "code",
   "execution_count": null,
   "metadata": {
    "collapsed": true
   },
   "outputs": [],
   "source": []
  }
 ],
 "metadata": {
  "kernelspec": {
   "display_name": "Python 2",
   "language": "python",
   "name": "python2"
  },
  "language_info": {
   "codemirror_mode": {
    "name": "ipython",
    "version": 2
   },
   "file_extension": ".py",
   "mimetype": "text/x-python",
   "name": "python",
   "nbconvert_exporter": "python",
   "pygments_lexer": "ipython2",
   "version": "2.7.10"
  }
 },
 "nbformat": 4,
 "nbformat_minor": 0
}

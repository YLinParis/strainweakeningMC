{
 "cells": [
  {
   "cell_type": "markdown",
   "metadata": {},
   "source": [
    "# Implicit Return Mapping for the strain-weakening Mohr-Coulomb plasticity"
   ]
  },
  {
   "cell_type": "markdown",
   "metadata": {},
   "source": [
    "## Yield function and flow potential"
   ]
  },
  {
   "cell_type": "markdown",
   "metadata": {},
   "source": [
    "The Mohr-Coulomb plasticity model has the following yield function ($f_{s}$), flow potential ($g_{s}$):\n",
    "\n",
    "\\begin{equation}\n",
    "f_{s}(\\sigma_{1},\\sigma_{3},\\kappa) = \\sigma_{1} - \\frac{1+\\sin\\phi(\\kappa)}{1-\\sin\\phi(\\kappa)}\\sigma_{3} + 2c(\\kappa)\\frac{\\cos\\phi(\\kappa)}{1-\\sin\\phi(\\kappa)} = \\sigma_{1} - N_{\\phi}(\\kappa) \\sigma_{3} + 2c(\\kappa)\\sqrt{N_{\\phi}(\\kappa)}.\n",
    "\\end{equation}\n",
    "\n",
    "\\begin{equation}\n",
    "g_{s}(\\sigma_{1},\\sigma_{3},\\kappa) = \\sigma_{1} - \\frac{1+\\sin\\psi(\\kappa)}{1-\\sin\\psi(\\kappa)}\\sigma_{3} = \\sigma_{1} - N_{\\psi}(\\kappa)\\sigma_{3}\n",
    "\\end{equation}"
   ]
  },
  {
   "cell_type": "markdown",
   "metadata": {},
   "source": [
    "## Kinematics"
   ]
  },
  {
   "cell_type": "markdown",
   "metadata": {},
   "source": [
    "In the limit of small deformation, the total strain increment is decomposed into the elastic and plastic strain components and the plastic strain increment is defined as the product of the increment of the consistentcy paramter ($\\Delta \\beta$) and the derivatives of flow potential with respect to stresses $\\partial g/\\partial \\boldsymbol{\\sigma}$:\n",
    "\n",
    "\\begin{align}\n",
    "\\Delta \\boldsymbol{\\varepsilon} &= \\Delta \\boldsymbol{\\varepsilon}_{el} + \\Delta \\boldsymbol{\\varepsilon}_{pl}, \\\\\n",
    "\\Delta \\boldsymbol{\\varepsilon}_{pl} &= \\Delta \\beta \\frac{\\partial g}{\\partial \\boldsymbol{\\sigma}}.\n",
    "\\end{align}\n",
    "\n",
    "In terms of the principal components, the elastic strain increments are given as\n",
    "\\begin{align}\n",
    "\\Delta \\varepsilon_{pl1} &= \\Delta \\beta, \\\\\n",
    "\\Delta \\varepsilon_{pl2} &= 0, \\\\\n",
    "\\Delta \\varepsilon_{pl3} &= - N_{\\psi} \\Delta \\beta.\n",
    "\\end{align}\n",
    "\n",
    "\\begin{align}\n",
    "\\Delta \\varepsilon_{el1} &= \\Delta \\varepsilon_{1} - \\Delta \\beta, \\\\\n",
    "\\Delta \\varepsilon_{el2} &= \\Delta \\varepsilon_{2}, \\\\\n",
    "\\Delta \\varepsilon_{el3} &= \\Delta \\varepsilon_{3} + N_{\\psi} \\Delta \\beta.\n",
    "\\end{align}"
   ]
  },
  {
   "cell_type": "markdown",
   "metadata": {},
   "source": [
    "## Stress update"
   ]
  },
  {
   "cell_type": "markdown",
   "metadata": {},
   "source": [
    "In terms of the principal components, the stress increments are \n",
    "\n",
    "\\begin{align}\n",
    "\\Delta \\sigma_{1} &= (\\lambda+2\\mu) \\Delta\\varepsilon_{el1} + \\lambda \\Delta \\varepsilon_{el2} + \\lambda \\Delta \\varepsilon_{el3},\\\\\n",
    "\\Delta \\sigma_{2} &= \\lambda \\Delta\\varepsilon_{el1} + (\\lambda+2\\mu) \\Delta \\varepsilon_{el2} + \\lambda \\Delta \\varepsilon_{el3}, \\\\\n",
    "\\Delta \\sigma_{3} &= \\lambda \\Delta\\varepsilon_{el1} + \\lambda \\Delta \\varepsilon_{el2} + (\\lambda+2\\mu) \\Delta \\varepsilon_{el3}.\n",
    "\\end{align}\n",
    "\n",
    "Plugging in the expressions for the elastic strain increments and denoting the previous principal stresses as $\\sigma_{i}^{o}$, we get the updated stresses as\n",
    "\n",
    "\\begin{align} \n",
    "\\sigma_{1} &= \\sigma_{1}^{o} + (\\lambda+2\\mu) (\\Delta\\varepsilon_{1}-\\Delta\\beta)+ \\lambda \\Delta \\varepsilon_{2} + \\lambda (\\Delta \\varepsilon_{3}+N_{\\psi}(\\kappa) \\Delta\\beta), \\\\\n",
    "\\sigma_{3} &= \\sigma_{3}^{o} + \\lambda (\\Delta\\varepsilon_{1}-\\Delta\\beta) + \\lambda \\Delta \\varepsilon_{2} + (\\lambda+2\\mu) (\\Delta \\varepsilon_{3}+N_{\\psi}(\\kappa) \\Delta\\beta).\n",
    "\\end{align}\n",
    "\n",
    "In the return mapping algorithm, we can require that the updated stresses satisfy the consistency conditions: i.e.,  $\\mathcal{F}(\\Delta \\beta)$ defined as follows becomes zero:\n",
    "\n",
    "\\begin{equation}\n",
    "\\begin{split}\n",
    "\\mathcal{F}(\\Delta \\beta) = &\\sigma_{1}^{o} + (\\lambda+2\\mu)(\\Delta\\varepsilon_{1}-\\Delta \\beta)+ \\lambda \\Delta \\varepsilon_{2} + \\lambda \\left( \\Delta \\varepsilon_{3} + \\Delta \\beta N_{\\psi}(\\kappa) \\right) \\\\ \n",
    "- &N_{\\phi} \\left[ \\sigma_{3}^{o} + \\lambda(\\Delta\\varepsilon_{1}-\\Delta \\beta) + \\lambda \\Delta \\varepsilon_{2} + (\\lambda+2\\mu) \\left( \\Delta \\varepsilon_{3} + \\Delta\\beta N_{\\psi}(\\kappa) \\right) \\right] \\\\\n",
    "+ & 2c(\\kappa)\\sqrt{N_{\\phi}(\\kappa)}.\n",
    "\\end{split}\n",
    "\\end{equation}\n"
   ]
  },
  {
   "cell_type": "markdown",
   "metadata": {},
   "source": [
    "## Tangent operator"
   ]
  },
  {
   "cell_type": "markdown",
   "metadata": {},
   "source": [
    "The goal is to solve this equation for $\\Delta \\beta$. If the strain-hardening or softening is not considered, i.e., $\\phi$, $\\psi$ and $c$ are constants, the above equation is an algebraic one that can be easily solved for $\\Delta \\beta$. In case of strain-softening, we employ the Newton's method.\n",
    "\n",
    "To execute the Newton scheme for finding $\\Delta \\beta$ that satisfies $\\mathcal{F}=0$, $\\mathcal{F}^{\\prime}$ needs to be evaluated. \n",
    "\n",
    "\\begin{equation}\n",
    "\\begin{split}\n",
    "\\mathcal{F}^{\\prime} = \\frac{d\\mathcal{F}}{d\\Delta \\beta} = &-(\\lambda+2\\mu) + \\lambda N_{\\psi}(\\kappa) + \\lambda \\Delta \\beta N_{\\psi}^{\\prime}(\\kappa) \\\\\n",
    "& - \\left[ \\sigma_{3}^{o}+ \\lambda (\\Delta\\varepsilon_{1}-\\Delta \\beta) + \\lambda \\Delta \\varepsilon_{e2} + (\\lambda+2\\mu) \\left( \\Delta \\varepsilon_{3} + \\Delta \\beta N_{\\psi}(\\kappa) \\right) \\right] N_{\\phi}^{\\prime} (\\kappa) \\\\\n",
    "& - \\left[ -\\lambda + (\\lambda+2\\mu)(N_{\\psi}+\\Delta \\beta N_{\\psi}^{\\prime}) \\right] N_{\\phi} \\\\\n",
    "& + 2 c^{\\prime}(\\kappa) \\sqrt{N_{\\phi}(\\kappa)} + 2c(\\kappa) (\\sqrt{N_{\\phi}(\\kappa)})^{\\prime}.\n",
    "\\end{split}\n",
    "\\end{equation}"
   ]
  },
  {
   "cell_type": "markdown",
   "metadata": {},
   "source": [
    "### Derivatives of $N_{\\phi}$, $N_{\\psi}$, and $\\sqrt{N_{\\phi}}$ under strain weakening"
   ]
  },
  {
   "cell_type": "markdown",
   "metadata": {},
   "source": [
    "\\begin{equation}\n",
    "\\begin{split}\n",
    "N_{\\phi}(\\kappa)^{\\prime} &= \\frac{dN_{\\phi}(\\kappa)}{d\\Delta\\beta} = \\left( \\frac{dN_{\\phi}}{d\\phi} \\right)\n",
    "\\left( \\frac{d\\phi}{d\\kappa}\\right) \\left( \\frac{d\\kappa}{d\\Delta \\beta}\\right) \\\\\n",
    "&= \\frac{2\\cos\\phi(\\kappa)}{(1-\\sin\\phi(\\kappa))^{2}}\n",
    "\\left( \\frac{d\\phi}{d\\kappa}\\right) \\left( \\frac{d\\kappa}{d\\Delta \\beta}\\right),\n",
    "\\end{split}\n",
    "\\end{equation}\n",
    "where $\\frac{d\\phi}{d\\kappa}$ is evaluated according to a prescribed weakening rule, i.e., $\\phi = \\phi(\\kappa)$ and $\\frac{d\\phi}{d\\kappa}$ is determined according to the definition of the internal variable $\\kappa$ in terms of the plastic consistency parameter $\\beta$. For instance, a linear weakening rule can be defined as \n",
    "\\begin{equation}\n",
    "  \\phi(\\kappa) = \\phi_{0} + H_{\\phi}\\kappa,\n",
    "\\end{equation}\n",
    "where $H_{\\phi} < 0$ is the constant weakening modulus for the internal friction angle. In this case, $\\frac{d\\phi}{d\\kappa} = H_{\\phi}$.\n",
    "\n",
    "Similarly, \n",
    "\\begin{equation}\n",
    "N_{\\psi}(\\kappa)^{\\prime} = \\frac{2\\cos\\psi(\\kappa)}{(1-\\sin\\psi(\\kappa))^{2}}\n",
    "\\left( \\frac{d\\psi}{d\\kappa}\\right) \\left( \\frac{d\\kappa}{d\\Delta \\beta}\\right),\n",
    "\\end{equation}\n",
    "and \n",
    "\\begin{equation}\n",
    "\\left( \\sqrt{N_{\\phi}(\\kappa)} \\right)^{\\prime} \n",
    "= \\frac{d}{d\\phi}\\left( \\frac{\\cos \\phi(\\kappa)}{1-\\sin\\phi(\\kappa)} \\right)\n",
    "\\left( \\frac{d\\phi}{d\\kappa}\\right) \\left( \\frac{d\\kappa}{d\\Delta \\beta}\\right)\n",
    "= \\frac{1}{1-\\sin\\phi(\\kappa)}\n",
    "\\left( \\frac{d\\phi}{d\\kappa}\\right) \\left( \\frac{d\\kappa}{d\\Delta \\beta}\\right).\n",
    "\\end{equation}"
   ]
  },
  {
   "cell_type": "markdown",
   "metadata": {},
   "source": [
    "### Choices for the internal variable $\\kappa$"
   ]
  },
  {
   "cell_type": "markdown",
   "metadata": {},
   "source": [
    "#### Case 1"
   ]
  },
  {
   "cell_type": "markdown",
   "metadata": {},
   "source": [
    "A popular choice for the internal variable increment ($\\Delta \\kappa$) is $\\sqrt{ | J_{2}(\\Delta \\boldsymbol{\\varepsilon}_{pl}) | }$:\n",
    "\n",
    "\\begin{equation}\n",
    "\\begin{split}\n",
    "  J_{2}(\\Delta \\boldsymbol{\\varepsilon}_{pl}) &= \\Delta e_{pl1} \\Delta e_{pl3} = (\\Delta \\varepsilon_{pl1} - \\Delta \\varepsilon_{plm}) ( \\Delta \\varepsilon_{pl3} - \\Delta \\varepsilon_{plm})  \\\\\n",
    "  &= \\left( \\Delta \\varepsilon_{pl1} - \\frac{\\Delta \\varepsilon_{pl1}+\\Delta \\varepsilon_{pl3}}{3} \\right) \\left( \\Delta \\varepsilon_{pl3} - \\frac{\\Delta \\varepsilon_{pl1}+\\Delta \\varepsilon_{pl3}}{3}  \\right) \\\\\n",
    "  &= \\frac{2\\Delta \\varepsilon_{pl1}-\\Delta \\varepsilon_{pl3}}{3} \\frac{2\\Delta \\varepsilon_{pl3}-\\Delta \\varepsilon_{pl1}}{3} \\\\\n",
    "  &= \\left( \\frac{2}{3}+\\frac{1}{3}N_{\\psi}(\\kappa) \\right) \\left( \\frac{2}{3}N_{\\psi}(\\kappa)+\\frac{1}{3} \\right) \\Delta \\beta^{2}\n",
    "\\end{split}\n",
    "\\end{equation}\n",
    "\n",
    "Then, \n",
    "\\begin{equation}\n",
    "  \\Delta \\kappa = \\frac{\\Delta \\beta}{3} \\sqrt{ \\left|(2+N_{\\psi}(\\kappa))(1+2N_{\\psi}(\\kappa)) \\right|} = C_{\\psi}(\\kappa) \\Delta \\beta.\n",
    "\\end{equation}\n",
    "\n"
   ]
  },
  {
   "cell_type": "markdown",
   "metadata": {},
   "source": [
    "#### Case 2"
   ]
  },
  {
   "cell_type": "markdown",
   "metadata": {},
   "source": [
    "Sometimes the internal variable is defined in such a way that the volumetric plastic strain can be taken into accout. For instance,\n",
    "\n",
    "\\begin{equation}\n",
    "\\begin{split}\n",
    "  \\Delta \\kappa &= \\left[ \\frac{1}{2} \\left( (\\Delta \\varepsilon_{pl1}-\\Delta \\varepsilon_{plm})^{2} + (\\Delta \\varepsilon_{pl3}-\\Delta \\varepsilon_{plm})^{2}\\right) + \\Delta \\varepsilon_{plm}^{2} \\right]^{1/2} \\\\\n",
    "  &= \\left[ \\frac{1}{2} \\left[ (1-(1-N_{\\psi})/3)^{2} + (-N_{\\psi}-(1-N_{\\psi})/3)^{2} \\right] + ((1-N_{\\psi})/3)^{2} \\right]^{1/2} \\Delta \\beta \\\\\n",
    "  &= \\sqrt{\\frac{7}{18}+\\frac{2}{9}N_{\\psi}+\\frac{7}{18}N_{\\psi}^{2}} \\Delta \\beta \\\\\n",
    "  &= C_{\\psi} \\Delta \\beta\n",
    "\\end{split}\n",
    "\\end{equation}"
   ]
  },
  {
   "cell_type": "markdown",
   "metadata": {},
   "source": [
    "### Derivative of $\\Delta \\kappa$ with respect to $\\Delta \\beta$"
   ]
  },
  {
   "cell_type": "markdown",
   "metadata": {},
   "source": [
    "\\begin{equation}\n",
    "  \\frac{d\\Delta\\kappa}{d\\Delta\\beta} = \\frac{dC_{\\psi}}{d\\psi} \\frac{d\\psi}{d\\Delta \\kappa} \\frac{d\\Delta\\kappa}{d\\Delta \\beta} \\Delta \\beta + C_{\\psi}(\\kappa)\n",
    "%  = \\frac{\\sqrt{ \\left|(2+N_{\\psi})(1+2N_{\\psi}) \\right|}}{3}.\n",
    "\\end{equation}\n",
    "\n",
    "Therefore,\n",
    "\n",
    "\\begin{equation}\n",
    "  \\frac{d\\Delta\\kappa}{d\\Delta\\beta} = \\frac{C_{\\psi}(\\kappa)}{1-\\frac{dC_{\\psi}}{d\\psi} \\frac{d\\psi}{d\\Delta \\kappa} \\Delta \\beta}\n",
    "%  = \\frac{\\sqrt{ \\left|(2+N_{\\psi})(1+2N_{\\psi}) \\right|}}{3}.\n",
    "\\end{equation}"
   ]
  },
  {
   "cell_type": "markdown",
   "metadata": {},
   "source": [
    "#### Case 2"
   ]
  },
  {
   "cell_type": "markdown",
   "metadata": {},
   "source": [
    "\\begin{equation}\n",
    "  C_{\\psi}(\\kappa) = \\sqrt{\\frac{7}{18}+\\frac{2}{9}N_{\\psi}+\\frac{7}{18}N_{\\psi}^{2}}\n",
    "\\end{equation}\n",
    "\n",
    "\\begin{equation}\n",
    "\\begin{split}\n",
    "  \\frac{dC_{\\psi}}{d\\psi} &= \\frac{\\frac{2}{9}\\frac{dN_{\\psi}}{d\\psi}+\\frac{7}{9}N_{\\psi}\\frac{dN_{\\psi}}{d\\psi}}{2C_{\\psi}} \\\\\n",
    "  &= \\frac{2+7N_{\\psi}}{18C_{\\psi}} \\frac{dN_{\\psi}}{d\\psi} \\\\\n",
    "  &= \\frac{2+7N_{\\psi}}{18C_{\\psi}} \\frac{2\\cos \\psi}{(1-\\sin\\psi)^{2}}.\n",
    "\\end{split}\n",
    "\\end{equation}\n",
    "\n",
    "\n",
    "\\begin{equation}\n",
    "  \\frac{d\\Delta\\kappa}{d\\Delta\\beta} = C_{\\psi} = \\sqrt{\\frac{7}{18}+\\frac{2}{9}N_{\\psi}+\\frac{7}{18}N_{\\psi}^{2}}.\n",
    "\\end{equation}\n"
   ]
  },
  {
   "cell_type": "markdown",
   "metadata": {},
   "source": [
    "## Newton scheme"
   ]
  },
  {
   "cell_type": "markdown",
   "metadata": {},
   "source": [
    "Let $\\Delta \\beta^{(0)}=0$ and for $k=0,1,2,\\ldots$,\n",
    "\n",
    "(i) Increment $\\beta$ and $\\kappa$:\n",
    "\n",
    "\\begin{align}\n",
    "  \\beta &= \\beta_{0} + \\Delta \\beta^{(k)}, \\\\\n",
    "  \\Delta \\kappa &= C_{\\psi} \\Delta \\beta^{(k)}, \\\\\n",
    "  \\kappa &= \\kappa_{0} + \\Delta \\kappa^{(k)}.\n",
    "\\end{align}\n",
    "\n",
    "(ii) Update all the $\\kappa$ dependent parameters:\n",
    "\n",
    "\\begin{align}\n",
    "  c &= c(\\kappa), \\\\\n",
    "  \\phi &= \\phi(\\kappa), \\\\\n",
    "  \\psi &= \\psi(\\kappa), \\\\\n",
    "  \\sin \\phi &= \\sin \\phi(\\kappa), \\\\\n",
    "  \\cos \\phi &= \\cos \\phi(\\kappa), \\\\\n",
    "  \\sin \\psi &= \\sin \\psi(\\kappa), \\\\\n",
    "  N_{\\phi} &= N_{\\phi}(\\kappa), \\\\\n",
    "  N_{\\psi} &= N_{\\psi}(\\kappa), \\\\\n",
    "  N_{\\phi}^{\\prime} &= \\frac{2\\cos \\phi(\\kappa)}{(1-\\sin\\phi(\\kappa))^{2}} C_{\\psi} \\left( \\frac{d\\phi}{d\\kappa} \\right), \\\\\n",
    "  N_{\\psi}^{\\prime} &= \\frac{2\\cos \\psi(\\kappa)}{(1-\\sin\\psi(\\kappa))^{2}} C_{\\psi} \\left( \\frac{d\\psi}{d\\kappa} \\right), \\\\\n",
    "  (\\sqrt{N_{\\phi}})^{\\prime} &= \\frac{1}{1-\\sin \\phi}C_{\\psi} \\left( \\frac{d\\phi}{d\\kappa} \\right),\n",
    "\\end{align}\n",
    "\n",
    "where $C_{\\psi} = d\\Delta \\kappa/d\\Delta \\beta$ is a function of the dilation angle $\\psi(\\kappa)$. In this example,\n",
    "\n",
    "\\begin{equation}\n",
    "$C_{\\psi} = \\sqrt{\\frac{7}{18}+\\frac{2}{9}N_{\\psi}+\\frac{7}{18}N_{\\psi}^{2}}.\n",
    "\\end{equation}\n",
    "\n",
    "(iii) Update the elastic strains:\n",
    "\n",
    "\\begin{align}\n",
    "\\Delta \\varepsilon_{e1} &= \\Delta \\varepsilon_{1} - \\Delta \\beta^{(k)}, \\\\\n",
    "\\Delta \\varepsilon_{e2} &= \\Delta \\varepsilon_{2}, \\\\\n",
    "\\Delta \\varepsilon_{e3} &= \\Delta \\varepsilon_{3} + N_{\\psi} \\Delta \\beta^{(k)}.\n",
    "\\end{align}\n",
    "\n",
    "\n",
    "(iv) Evaluate $\\mathcal{F}$ for the updated $\\kappa$: \n",
    "\n",
    "\\begin{equation}\n",
    "\\begin{split}\n",
    "  \\mathcal{F} = &(\\sigma_{1}^{o} + (\\lambda+2\\mu)\\Delta \\varepsilon_{e1} + \\lambda \\Delta \\varepsilon_{e2} + \\lambda \\Delta \\varepsilon_{e3} ) \\\\\n",
    "  - &N_{\\phi}(\\kappa) (\\sigma_{3}^{o} + \\lambda\\Delta \\varepsilon_{e1} + \\lambda \\Delta \\varepsilon_{e2} + (\\lambda+2\\mu) \\Delta \\varepsilon_{e3} ) \\\\\n",
    "  + &2c(\\kappa)\\sqrt{N_{\\phi}(\\kappa)}.\n",
    "\\end{split}\n",
    "\\end{equation}\n",
    "\n",
    "(v) If $\\mathcal{F}(\\kappa) \\neq 0$, update $\\Delta \\beta^{(k)}$ to $\\Delta \\beta^{(k+1)}$ and go to 1:\n",
    "\n",
    "\\begin{equation}\n",
    "\\begin{split}\n",
    "\\mathcal{F}^{\\prime} = &-(\\lambda+2\\mu) + \\lambda N_{\\psi} + \\lambda \\Delta \\beta^{(k)} N_{\\psi}^{\\prime} \\\\\n",
    "& - \\left( \\sigma_{3}^{o}+ \\lambda \\Delta \\varepsilon_{e1} + \\lambda \\Delta \\varepsilon_{e2} + (\\lambda+2\\mu)\\Delta \n",
    "\\varepsilon_{e3} \\right) N_{\\phi}^{\\prime} \\\\\n",
    "& - \\left[ -\\lambda + (\\lambda+2\\mu)(N_{\\psi}+\\Delta \\beta^{(k)}N_{\\psi}^{\\prime}) \\right] N_{\\phi} \\\\\n",
    "& + 2 \\left( \\frac{dc}{d\\kappa} \\right) C_{\\psi} \\sqrt{N_{\\phi}} + 2c (\\sqrt{N_{\\phi}})^{\\prime}.\n",
    "\\end{split}\n",
    "\\end{equation}\n",
    "\n",
    "\\begin{equation}\n",
    "\\Delta \\beta^{(k+1)} = \\Delta \\beta^{(k)} - \\frac{\\mathcal{F}}{\\mathcal{F}^{\\prime}}\n",
    "\\end{equation}"
   ]
  },
  {
   "cell_type": "code",
   "execution_count": null,
   "metadata": {
    "collapsed": true
   },
   "outputs": [],
   "source": []
  }
 ],
 "metadata": {
  "kernelspec": {
   "display_name": "Python 2",
   "language": "python",
   "name": "python2"
  },
  "language_info": {
   "codemirror_mode": {
    "name": "ipython",
    "version": 2
   },
   "file_extension": ".py",
   "mimetype": "text/x-python",
   "name": "python",
   "nbconvert_exporter": "python",
   "pygments_lexer": "ipython2",
   "version": "2.7.10"
  }
 },
 "nbformat": 4,
 "nbformat_minor": 0
}

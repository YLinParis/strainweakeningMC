{
 "cells": [
  {
   "cell_type": "markdown",
   "metadata": {},
   "source": [
    "# Implicit Return Mapping for the strain-weakening Mohr-Coulomb plasticity"
   ]
  },
  {
   "cell_type": "markdown",
   "metadata": {},
   "source": [
    "The Mohr-Coulomb plasticity model has the following yield function ($f_{s}$), flow potential ($g_{s}$):\n",
    "\\begin{equation}\n",
    "f_{s}(\\sigma_{1},\\sigma_{3},\\kappa) = \\sigma_{1} - \\frac{1+\\sin\\phi(\\kappa)}{1-\\sin\\phi(\\kappa)}\\sigma_{3} + 2c(\\kappa)\\frac{\\cos\\phi(\\kappa)}{1-\\sin\\phi(\\kappa)}\n",
    "\\end{equation}\n",
    "\n",
    "\\begin{equation}\n",
    "g_{s}(\\sigma_{1},\\sigma_{3},\\kappa) = \\sigma_{1} - \\frac{1+\\sin\\psi(\\kappa)}{1-\\sin\\psi(\\kappa)}\\sigma_{3}\n",
    "\\end{equation}"
   ]
  },
  {
   "cell_type": "markdown",
   "metadata": {},
   "source": [
    "In the limit of small deformation, the total strain increment is decomposed into the elastic and plastic strain components and the plastic strain increment is defined as the product of the increment of the consistentcy paramter ($\\Delta \\beta$) and the derivatives of flow potential with respect to stresses $\\partial g/\\partial \\boldsymbol{\\sigma}$:\n",
    "\\begin{equation}\n",
    "\\Delta \\boldsymbol{\\varepsilon} = \\Delta \\boldsymbol{\\varepsilon}_{el} + \\Delta \\boldsymbol{\\varepsilon}_{pl} \n",
    "\\end{equation}\n",
    "and\n",
    "\\begin{equation}\n",
    "\\Delta \\boldsymbol{\\varepsilon}_{pl} = \\beta \\frac{\\partial g}{\\partial \\boldsymbol{\\sigma}}.\n",
    "\\end{equation}"
   ]
  },
  {
   "cell_type": "markdown",
   "metadata": {},
   "source": [
    "In terms of the principal components, the stress increments are expressed as\n",
    "\n",
    "\\begin{align}\n",
    "\\Delta \\sigma_{1} &= (\\lambda+2\\mu)(\\Delta\\varepsilon_{1}-\\Delta\\varepsilon_{pl,1})+ \\lambda (\\Delta \\varepsilon_{2}-\\Delta\\varepsilon_{pl,2}) + \\lambda (\\Delta \\varepsilon_{3}-\\Delta\\varepsilon_{pl,3}),\\\\\n",
    "\\Delta \\sigma_{2} &= \\lambda(\\Delta\\varepsilon_{1}-\\Delta\\varepsilon_{pl,1})+ (\\lambda+2\\mu) (\\Delta \\varepsilon_{2}-\\Delta\\varepsilon_{pl,2}) + \\lambda (\\Delta \\varepsilon_{3}-\\Delta\\varepsilon_{pl,3}), \\\\\n",
    "\\Delta \\sigma_{3} &= \\lambda(\\Delta\\varepsilon_{1}-\\Delta\\varepsilon_{pl,1})+ \\lambda (\\Delta \\varepsilon_{2}-\\Delta\\varepsilon_{pl,2}) + (\\lambda+2\\mu) (\\Delta \\varepsilon_{3}-\\Delta\\varepsilon_{pl,3}).\n",
    "\\end{align}\n",
    "\n",
    "Denoting the previous principal stresses as $\\sigma_{i}^{o}$, we get the updated stresses as\n",
    "\\begin{align} \n",
    "\\sigma_{1} &= \\sigma_{1}^{o} + (\\lambda+2\\mu)(\\Delta\\varepsilon_{1}-\\Delta\\varepsilon_{pl,1})+ \\lambda (\\Delta \\varepsilon_{2}-\\Delta\\varepsilon_{pl,2}) + \\lambda (\\Delta \\varepsilon_{3}-\\Delta\\varepsilon_{pl,3}), \\\\\n",
    "\\sigma_{3} &= \\sigma_{3}^{o} + \\lambda(\\Delta\\varepsilon_{1}-\\Delta\\varepsilon_{pl,1})+ \\lambda (\\Delta \\varepsilon_{2}-\\Delta\\varepsilon_{pl,2}) + (\\lambda+2\\mu) (\\Delta \\varepsilon_{3}-\\Delta\\varepsilon_{pl,3}).\n",
    "\\end{align}\n",
    "\n",
    "Plugging in $\\Delta\\varepsilon_{pl,1}=\\Delta \\beta$, $\\Delta\\varepsilon_{pl,2}=0$ and $\\Delta\\varepsilon_{pl,3}= - \\Delta\\beta \\frac{1+\\sin\\phi(\\kappa)}{1-\\sin\\phi(\\kappa)}$ into the above equation, we can define $\\mathcal{F}(\\Delta \\beta)$ as follows:\n",
    "\\begin{equation}\n",
    "\\begin{split}\n",
    "\\mathcal{F}(\\Delta \\beta) = &\\sigma_{1}^{o} + (\\lambda+2\\mu)(\\Delta\\varepsilon_{1}-\\Delta \\beta)+ \\lambda \\Delta \\varepsilon_{2} + \\lambda \\left( \\Delta \\varepsilon_{3} + \\Delta \\beta \\frac{1+\\sin\\phi(\\kappa)}{1-\\sin\\phi(\\kappa)} \\right) \\\\ - &\\frac{1+\\sin\\phi(\\kappa)}{1-\\sin\\phi(\\kappa)} \\left[ \\sigma_{3}^{o} + \\lambda(\\Delta\\varepsilon_{1}-\\Delta \\beta) + \\lambda \\Delta \\varepsilon_{2} + (\\lambda+2\\mu) \\left( \\Delta \\varepsilon_{3} + \\Delta\\beta \\frac{1+\\sin\\phi(\\kappa)}{1-\\sin\\phi(\\kappa)} \\right) \\right] \\\\\n",
    "+ & 2c(\\kappa)\\frac{\\cos\\phi(\\kappa)}{1-\\sin\\phi(\\kappa)}.\n",
    "\\end{split}\n",
    "\\end{equation}\n",
    "\n",
    "We require that the updated stresses are on the yield surface: i.e., $\\mathcal{F}=0.\n",
    "\\begin{equation}\n",
    "\\sigma_{1}^{o} + (\\lambda+2\\mu)(\\Delta\\varepsilon_{1}-\\Delta\\varepsilon_{pl,1})+ \\lambda (\\Delta \\varepsilon_{2}-\\Delta\\varepsilon_{pl,2}) + \\lambda (\\Delta \\varepsilon_{3}-\\Delta\\varepsilon_{pl,3}) - \\frac{1+\\sin\\phi(\\kappa)}{1-\\sin\\phi(\\kappa)} \\left[ \\sigma_{3}^{o} + \\lambda(\\Delta\\varepsilon_{1}-\\Delta\\varepsilon_{pl,1}) + \\lambda (\\Delta \\varepsilon_{2}-\\Delta\\varepsilon_{pl,2}) + (\\lambda+2\\mu) (\\Delta \\varepsilon_{3}-\\Delta\\varepsilon_{pl,3}) \\right] + 2c(\\kappa)\\frac{\\cos\\phi(\\kappa)}{1-\\sin\\phi(\\kappa)}=0.\n",
    "\\end{equation}\n",
    "\n",
    " we get\n",
    "\\begin{equation}\n",
    "\\sigma_{1}^{o} + (\\lambda+2\\mu)(\\Delta\\varepsilon_{1}-\\Delta \\beta)+ \\lambda \\Delta \\varepsilon_{2} + \\lambda \\left( \\Delta \\varepsilon_{3} + \\Delta\\beta \\frac{1+\\sin\\phi(\\kappa)}{1-\\sin\\phi(\\kappa)} \\right) - \\frac{1+\\sin\\phi(\\kappa)}{1-\\sin\\phi(\\kappa)} \\left[ \\sigma_{3}^{o} + \\lambda(\\Delta\\varepsilon_{1}-\\Delta\\\\beta) + \\lambda \\Delta \\varepsilon_{2} + (\\lambda+2\\mu) \\left( \\Delta \\varepsilon_{3} + \\Delta\\beta \\frac{1+\\sin\\phi(\\kappa)}{1-\\sin\\phi(\\kappa)} \\right) \\right] + 2c(\\kappa)\\frac{\\cos\\phi(\\kappa)}{1-\\sin\\phi(\\kappa)}=0.\n",
    "\\end{equation}\n",
    "\n",
    "The goal of the implicit return mapping is to solve this equation for $\\Delta \\beta$. If the strain-hardening or softening is not considered, i.e., $\\phi$, $\\psi$ and $c$ are constants, the above equation is an algebraic one that can be easily solved for $\\Delta \\beta$. In case of strain-softening, we employ the Newton's method.\n"
   ]
  },
  {
   "cell_type": "markdown",
   "metadata": {},
   "source": []
  }
 ],
 "metadata": {
  "kernelspec": {
   "display_name": "Python 2",
   "language": "python",
   "name": "python2"
  },
  "language_info": {
   "codemirror_mode": {
    "name": "ipython",
    "version": 2
   },
   "file_extension": ".py",
   "mimetype": "text/x-python",
   "name": "python",
   "nbconvert_exporter": "python",
   "pygments_lexer": "ipython2",
   "version": "2.7.10"
  }
 },
 "nbformat": 4,
 "nbformat_minor": 0
}
